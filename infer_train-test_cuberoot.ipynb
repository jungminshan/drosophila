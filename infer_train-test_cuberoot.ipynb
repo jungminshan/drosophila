{
 "cells": [
  {
   "cell_type": "code",
   "execution_count": 1,
   "metadata": {},
   "outputs": [],
   "source": [
    "from f_data_prep import *\n",
    "from f_drosophila_infer import *\n",
    "from f_train import *"
   ]
  },
  {
   "cell_type": "code",
   "execution_count": 2,
   "metadata": {},
   "outputs": [],
   "source": [
    "data_complete = np.loadtxt('../data_complete.txt')\n",
    "data_bin = np.vsplit(data_complete, 6)\n",
    "data_init = np.vstack([data_bin[i] for i in range(5)])\n",
    "data_diff = make_data_diff(data_complete, 6)"
   ]
  },
  {
   "cell_type": "code",
   "execution_count": 6,
   "metadata": {},
   "outputs": [],
   "source": [
    "def infer_train_test(X, y, kf=10):\n",
    "    kfold = KFold(n_splits=kf, shuffle=False, random_state=1)\n",
    "    \n",
    "    error_list=[]\n",
    "    w_list=[]\n",
    "    sigma_list=[]\n",
    "    bias_list=[]\n",
    "    for (tr_ind, te_ind) in (kfold.split(y)):\n",
    "        X_tr, y_tr = X[tr_ind], y[tr_ind]\n",
    "        X_te, y_te = X[te_ind], y[te_ind]\n",
    "        \n",
    "        y_te_sum_sq = np.sum(np.abs(y_te)**2, axis=0)\n",
    "        w, sigma, bias = infer_drosophila(X_tr, y_tr, max_iter=1000, power=3)\n",
    "        y_pred = odd_power(bias + X_te.dot(w), 3) + sigma*npr.normal(size=(1,99))\n",
    "        error = np.sqrt(np.sum(np.abs(y_te - y_pred)**2, axis=0)/y_te_sum_sq)\n",
    "        error_list.append(error)\n",
    "        w_list.append(w)\n",
    "        sigma_list.append(sigma)\n",
    "        bias_list.append(bias)\n",
    "    return [np.mean(error_list, axis=0), np.std(error_list, axis=0), w_list, sigma_list, bias_list]"
   ]
  },
  {
   "cell_type": "code",
   "execution_count": 7,
   "metadata": {},
   "outputs": [],
   "source": [
    "X, y = shuffle(data_init, data_diff)\n",
    "infer_list = infer_train_test(X, y, kf=10)\n",
    "\n",
    "with open('./pickles/infer_list_power3.pkl', 'wb') as f:\n",
    "    pickle.dump(infer_list, f)"
   ]
  },
  {
   "cell_type": "code",
   "execution_count": 8,
   "metadata": {},
   "outputs": [],
   "source": [
    "with open('./pickles/infer_list_power3.pkl', 'rb') as f:\n",
    "    infer_list = pickle.load(f)"
   ]
  },
  {
   "cell_type": "code",
   "execution_count": 9,
   "metadata": {},
   "outputs": [
    {
     "data": {
      "image/png": "[encoded data removed]",
      "text/plain": [
       "<Figure size 864x432 with 1 Axes>"
      ]
     },
     "metadata": {},
     "output_type": "display_data"
    }
   ],
   "source": [
    "plt.figure(figsize=(12,6))\n",
    "plt.rcParams['font.size'] = 16\n",
    "plt.errorbar(range(99), infer_list[0], yerr=infer_list[1], fmt='o')\n",
    "plt.xlabel('gene')\n",
    "plt.ylabel('error')\n",
    "plt.show()"
   ]
  },
  {
   "cell_type": "code",
   "execution_count": null,
   "metadata": {},
   "outputs": [],
   "source": []
  }
 ],
 "metadata": {
  "kernelspec": {
   "display_name": "Python 3",
   "language": "python",
   "name": "python3"
  },
  "language_info": {
   "codemirror_mode": {
    "name": "ipython",
    "version": 3
   },
   "file_extension": ".py",
   "mimetype": "text/x-python",
   "name": "python",
   "nbconvert_exporter": "python",
   "pygments_lexer": "ipython3",
   "version": "3.6.5"
  }
 },
 "nbformat": 4,
 "nbformat_minor": 2
}
