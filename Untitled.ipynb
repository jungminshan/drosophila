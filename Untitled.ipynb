{
 "cells": [
  {
   "cell_type": "code",
   "execution_count": 1,
   "metadata": {
    "collapsed": true
   },
   "outputs": [],
   "source": [
    "from f_data_prep import *\n",
    "from f_drosophila_infer import *"
   ]
  },
  {
   "cell_type": "code",
   "execution_count": 2,
   "metadata": {
    "collapsed": true
   },
   "outputs": [],
   "source": [
    "data_complete = np.loadtxt('../data_complete.txt')\n",
    "data_bin = np.vsplit(data_complete, 6)"
   ]
  },
  {
   "cell_type": "code",
   "execution_count": 3,
   "metadata": {
    "collapsed": true
   },
   "outputs": [],
   "source": [
    "data = data_bin[0]"
   ]
  },
  {
   "cell_type": "code",
   "execution_count": null,
   "metadata": {
    "collapsed": true
   },
   "outputs": [],
   "source": [
    "%matplotlib inline\n",
    "function = ['linear', 'tanh', 'p3', 'p5']\n",
    "for func in function:\n",
    "    with open('./pickles/w_' + func + '.pkl', 'rb') as f:\n",
    "        w = pickle.load(f)\n",
    "    with open('./pickles/sigma_' + func + '.pkl', 'rb') as f:\n",
    "        sigma = pickle.load(f)\n",
    "    with open('./pickles/bias_' + func + '.pkl', 'rb') as f:\n",
    "        bias = pickle.load(f)\n",
    "    \n",
    "    plt.figure(figsize=(12,6))  \n",
    "    for i in range(6):\n",
    "        if func == 'linear':\n",
    "            data = np.vstack((data, bias + data.dot(w) + sigma*npr.normal(size=(1,99))\n",
    "        elif func == 'tanh':\n",
    "            diff_pred = np.tanh(bias + data_init.dot(w)) + sigma*npr.normal(size=(1,99))\n",
    "        else:\n",
    "            diff_pred = odd_power(bias + data_init.dot(w), int(list(func)[1])) + sigma*npr.normal(size=(1,99))"
   ]
  }
 ],
 "metadata": {
  "kernelspec": {
   "display_name": "Python 3",
   "language": "python",
   "name": "python3"
  },
  "language_info": {
   "codemirror_mode": {
    "name": "ipython",
    "version": 3
   },
   "file_extension": ".py",
   "mimetype": "text/x-python",
   "name": "python",
   "nbconvert_exporter": "python",
   "pygments_lexer": "ipython3",
   "version": "3.6.3"
  }
 },
 "nbformat": 4,
 "nbformat_minor": 2
}
