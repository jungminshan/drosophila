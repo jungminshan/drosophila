{
 "cells": [
  {
   "cell_type": "code",
   "execution_count": 1,
   "metadata": {},
   "outputs": [],
   "source": [
    "from f_data_prep import *\n",
    "from f_drosophila_infer import *\n",
    "from f_train import *\n",
    "import multiprocessing\n",
    "import os"
   ]
  },
  {
   "cell_type": "code",
   "execution_count": 2,
   "metadata": {},
   "outputs": [],
   "source": [
    "# ratio = np.array([int(5470*i) for i in [0.2,0.22,0.24,0.26,0.28,0.3,0.33,0.36,0.4,0.45,0.5,0.55,0.6]])"
   ]
  },
  {
   "cell_type": "code",
   "execution_count": 3,
   "metadata": {},
   "outputs": [
    {
     "data": {
      "text/plain": [
       "array([1216., 1337., 1458., 1580., 1701., 1823., 2006., 2188., 2431.,\n",
       "       2734., 3039., 3342., 3647.])"
      ]
     },
     "execution_count": 3,
     "metadata": {},
     "output_type": "execute_result"
    }
   ],
   "source": [
    "# n = np.round(ratio/0.9)\n",
    "# n"
   ]
  },
  {
   "cell_type": "code",
   "execution_count": 2,
   "metadata": {},
   "outputs": [],
   "source": [
    "data_all = np.loadtxt('../data_complete.txt')\n",
    "all_bin = np.vsplit(data_all, 6)\n",
    "all_init = np.vstack([all_bin[i] for i in range(5)])\n",
    "all_diff = np.vstack([all_bin[i+1]-all_bin[i] for i in range(5)])"
   ]
  },
  {
   "cell_type": "code",
   "execution_count": 3,
   "metadata": {},
   "outputs": [],
   "source": [
    "def make_quad(X):\n",
    "    quad = np.zeros((int(X.shape[0]), int(X.shape[1] + (X.shape[1]*(X.shape[1]-1))/2)))\n",
    "    quad[:, :X.shape[1]] = np.copy(X)\n",
    "    col = 99\n",
    "    for i in range(X.shape[1]-1):\n",
    "        for j in range(i+1, X.shape[1]):\n",
    "            quad[:,col] = (X[:,i]*X[:,j])\n",
    "            col += 1\n",
    "    return quad\n",
    "\n",
    "quad = make_quad(all_init)\n",
    "\n",
    "with open('./pickles/validation_cells.pkl', 'rb') as f:\n",
    "    cells_v = pickle.load(f)\n",
    "    \n",
    "val = np.hstack([cells_v+(6078*i) for i in range(5)])\n",
    "cells_tt = np.delete(range(6078), cells_v)\n",
    "tr_te = np.hstack([cells_tt+(6078*i) for i in range(5)])\n",
    "\n",
    "X_v = all_init[val]\n",
    "quad_v = quad[val]\n",
    "y_v = all_diff[val]\n",
    "quad_tt = quad[tr_te]\n",
    "y_tt = all_diff[tr_te]"
   ]
  },
  {
   "cell_type": "code",
   "execution_count": 4,
   "metadata": {},
   "outputs": [],
   "source": [
    "# quad_tr = []\n",
    "# y_tr = []\n",
    "# quad_te = []\n",
    "# y_te = []\n",
    "\n",
    "# kfold = KFold(n_splits=10, shuffle=False)\n",
    "# for (i, (cell_tr, cell_te)) in enumerate((kfold.split(range(5470)))):\n",
    "# #     print(i, cell_tr, cell_te)\n",
    "#     te = np.hstack([cell_te+(5470*i) for i in range(5)])\n",
    "#     tr = np.hstack([cell_tr+(5470*i) for i in range(5)])\n",
    "#     np.save('./numpy_files/quad_tr_%s' % i, quad_tt[tr])\n",
    "#     np.save('./numpy_files/y_tr_%s' % i, y_tt[tr])\n",
    "#     np.save('./numpy_files/quad_te_%s' % i, quad_tt[te])\n",
    "#     np.save('./numpy_files/y_te_%s' % i, y_tt[te])"
   ]
  },
  {
   "cell_type": "code",
   "execution_count": 7,
   "metadata": {},
   "outputs": [],
   "source": [
    "def make_quad(X):\n",
    "    quad = np.zeros((int(X.shape[0]), int(X.shape[1] + (X.shape[1]*(X.shape[1]-1))/2)))\n",
    "    quad[:, :X.shape[1]] = np.copy(X)\n",
    "    col = 99\n",
    "    for i in range(X.shape[1]-1):\n",
    "        for j in range(i+1, X.shape[1]):\n",
    "            quad[:,col] = (X[:,i]*X[:,j])\n",
    "            col += 1\n",
    "    return quad\n",
    "\n",
    "quad = make_quad(all_init)\n",
    "\n",
    "with open('./pickles/validation_cells.pkl', 'rb') as f:\n",
    "    cells_v = pickle.load(f)\n",
    "    \n",
    "val = np.hstack([cells_v+(6078*i) for i in range(5)])\n",
    "\n",
    "titrate = [20,22,24,26,28,30,33,36,40,45,50,55,60]\n",
    "ind = 0\n",
    "for cell_n in n:\n",
    "    per = int(titrate[ind])\n",
    "    cells_tt = np.random.choice(np.delete(range(6078), cells_v), size=int(cell_n), replace=False)\n",
    "    tr_te = np.hstack([cells_tt+(6078*i) for i in range(5)])\n",
    "\n",
    "    quad_tt = quad[tr_te]\n",
    "    y_tt = all_diff[tr_te]\n",
    "\n",
    "    kfold = KFold(n_splits=10, shuffle=False)\n",
    "    for (j, (cell_tr, cell_te)) in enumerate((kfold.split(range(int(cell_n))))):\n",
    "    #     print(i, cell_tr, cell_te)\n",
    "        te = np.hstack([cell_te+(int(cell_n)*i) for i in range(5)])\n",
    "        tr = np.hstack([cell_tr+(int(cell_n)*i) for i in range(5)])\n",
    "        np.save('./numpy_files/titrate_%s/quad_tr_%s' % (per,j), quad_tt[tr])\n",
    "        np.save('./numpy_files/titrate_%s/y_tr_%s' % (per,j), y_tt[tr])\n",
    "        np.save('./numpy_files/titrate_%s/quad_te_%s' % (per,j), quad_tt[te])\n",
    "        np.save('./numpy_files/titrate_%s/y_te_%s' % (per,j), y_tt[te])\n",
    "    ind += 1"
   ]
  },
  {
   "cell_type": "code",
   "execution_count": null,
   "metadata": {},
   "outputs": [],
   "source": []
  }
 ],
 "metadata": {
  "kernelspec": {
   "display_name": "Python 3",
   "language": "python",
   "name": "python3"
  },
  "language_info": {
   "codemirror_mode": {
    "name": "ipython",
    "version": 3
   },
   "file_extension": ".py",
   "mimetype": "text/x-python",
   "name": "python",
   "nbconvert_exporter": "python",
   "pygments_lexer": "ipython3",
   "version": "3.6.3"
  },
  "toc": {
   "base_numbering": 1,
   "nav_menu": {},
   "number_sections": true,
   "sideBar": true,
   "skip_h1_title": false,
   "title_cell": "Table of Contents",
   "title_sidebar": "Contents",
   "toc_cell": false,
   "toc_position": {},
   "toc_section_display": true,
   "toc_window_display": false
  }
 },
 "nbformat": 4,
 "nbformat_minor": 2
}
