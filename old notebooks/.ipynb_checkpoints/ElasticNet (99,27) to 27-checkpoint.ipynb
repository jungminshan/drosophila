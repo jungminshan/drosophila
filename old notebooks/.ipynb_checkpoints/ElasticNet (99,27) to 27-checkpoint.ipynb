{
 "cells": [
  {
   "cell_type": "code",
   "execution_count": 1,
   "metadata": {},
   "outputs": [],
   "source": [
    "from f_drosophila_infer import *\n",
    "from f_train import *\n",
    "from f_data_prep import *"
   ]
  },
  {
   "cell_type": "code",
   "execution_count": 2,
   "metadata": {},
   "outputs": [],
   "source": [
    "data_all = np.loadtxt('../data_complete.txt')\n",
    "data_all = data_all - np.median(data_all, axis=0)\n",
    "all_bin = np.vsplit(data_all, 6)\n",
    "all_init = np.vstack([all_bin[i] for i in range(5)])\n",
    "\n",
    "complete_all = ([int(x) - 1 for x in open('../indices_complete.txt','r').readline().split()])\n",
    "comp_ind = list(map(int, list((np.array(complete_all)[::6]-3)/6)))"
   ]
  },
  {
   "cell_type": "code",
   "execution_count": 3,
   "metadata": {},
   "outputs": [
    {
     "name": "stdout",
     "output_type": "stream",
     "text": [
      "# of quadratic variables: 351\n",
      "Size of predictor: (30390, 450) \n",
      "Size of target: (30390, 27)\n"
     ]
    }
   ],
   "source": [
    "quad_all = np.copy(data_all)\n",
    "\n",
    "for i in range(len(comp_ind)-1):\n",
    "    for j in range(i+1, len(comp_ind)):\n",
    "        quad_all = np.hstack((quad_all, (data_all[:,comp_ind[i]]*data_all[:,comp_ind[j]])[:,None]))\n",
    "\n",
    "all_quad_bin = np.vsplit(quad_all, 6)\n",
    "quad_init = np.vstack([all_quad_bin[i] for i in range(5)])\n",
    "\n",
    "data_comp = np.copy(data_all[:, comp_ind])\n",
    "comp_bin = np.vsplit(data_comp, 6)\n",
    "comp_diff = np.vstack([comp_bin[i+1] - comp_bin[i] for i in range(5)])\n",
    "\n",
    "print('# of quadratic variables:', int(len(comp_ind)*(len(comp_ind)-1)/2))\n",
    "print('Size of predictor:', quad_init.shape, '\\nSize of target:', comp_diff.shape)"
   ]
  },
  {
   "cell_type": "code",
   "execution_count": null,
   "metadata": {},
   "outputs": [
    {
     "name": "stderr",
     "output_type": "stream",
     "text": [
      "/anaconda3/lib/python3.6/site-packages/sklearn/linear_model/coordinate_descent.py:491: ConvergenceWarning: Objective did not converge. You might want to increase the number of iterations. Fitting data with very small alpha may cause precision problems.\n",
      "  ConvergenceWarning)\n"
     ]
    }
   ],
   "source": [
    "import timeit\n",
    "\n",
    "start = timeit.default_timer()\n",
    "w, sigma, bias = ER_quad_elastic(quad_init, comp_diff, power=1, alpha_=1, ratio_=0)\n",
    "end = timeit.default_timer()\n",
    "\n",
    "print('simulation time: %s' % (end-start))\n",
    "print(w.shape, bias.shape, sigma.shape)\n",
    "\n",
    "ridge_9927 = list([w, sigma, bias])\n",
    "with ('./pickles/ridge_9927.pkl', 'wb') as f:\n",
    "    pickle.dump(ridge_9927, f)"
   ]
  },
  {
   "cell_type": "code",
   "execution_count": null,
   "metadata": {},
   "outputs": [],
   "source": [
    "data_actual = np.vstack([comp_bin[i+1] for i in range(5)])\n",
    "data_pred = all_init[:, comp_ind] + np.tanh(bias + quad_init.dot(w)) + sigma*npr.normal(size=(1,w.shape[1]))\n",
    "\n",
    "E_comp = (np.sum(np.abs(data_pred - data_actual)**2, axis=0)/np.sum(np.abs(data_actual)**2, axis=0))**1/2\n",
    "\n",
    "plt.figure(figsize=(12,6))\n",
    "plt.plot(range(data_pred.shape[1]), E_comp, 'ro--')\n",
    "# plt.plot(comp_ind, E[comp_ind], 'ko')\n",
    "# plt.plot(comp_ind, comp_E, 'ro')\n",
    "plt.xlabel('gene')\n",
    "plt.ylabel('fractional error')\n",
    "# plt.xlim(0,26)\n",
    "# plt.ylim(0,1)\n",
    "plt.show()"
   ]
  },
  {
   "cell_type": "code",
   "execution_count": null,
   "metadata": {},
   "outputs": [],
   "source": [
    "from sklearn.model_selection import GridSearchCV, ParameterGrid\n",
    "from sklearn.linear_model import ElasticNet\n",
    "\n",
    "grid = {'alpha': np.logspace(-1,2,4),\\\n",
    "            'l1_ratio' :[.2, .4, .6, .8]}\n",
    "a=list(ParameterGrid(grid))\n",
    "\n",
    "for i in range(len(a)):\n",
    "    alpha = a[i]['alpha']\n",
    "    ratio = a[i]['l1_ratio']\n",
    "    w, sigma, bias = ER_quad_elastic(quad_init, comp_diff, power=1, alpha_=alpha, ratio_=ratio)\n",
    "    \n",
    "    data_actual = np.vstack([comp_bin[i+1] for i in range(5)])\n",
    "    data_pred = all_init[:, comp_ind] + np.tanh(bias + quad_init.dot(w)) + sigma*npr.normal(size=(1,w.shape[1]))\n",
    "\n",
    "    E_comp = (np.sum(np.abs(data_pred - data_actual)**2, axis=0)/np.sum(np.abs(data_actual)**2, axis=0))**1/2\n",
    "    \n",
    "    plt.figure(figsize=(12,6))\n",
    "    plt.plot(range(data_pred.shape[1]), E_comp, 'ro--')\n",
    "    # plt.plot(comp_ind, E[comp_ind], 'ko')\n",
    "    # plt.plot(comp_ind, comp_E, 'ro')\n",
    "    plt.xlabel('gene')\n",
    "    plt.ylabel('fractional error')\n",
    "    plt.title('alpha = %s, l1_ratio = %s, median = %s' % (alpha, ratio, round(np.percentile(E_comp, .75), 3)))\n",
    "    # plt.xlim(0,26)\n",
    "    # plt.ylim(0,1)\n",
    "    plt.show()"
   ]
  },
  {
   "cell_type": "code",
   "execution_count": null,
   "metadata": {},
   "outputs": [],
   "source": []
  }
 ],
 "metadata": {
  "kernelspec": {
   "display_name": "Python 3",
   "language": "python",
   "name": "python3"
  },
  "language_info": {
   "codemirror_mode": {
    "name": "ipython",
    "version": 3
   },
   "file_extension": ".py",
   "mimetype": "text/x-python",
   "name": "python",
   "nbconvert_exporter": "python",
   "pygments_lexer": "ipython3",
   "version": "3.6.5"
  }
 },
 "nbformat": 4,
 "nbformat_minor": 2
}
