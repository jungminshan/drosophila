{
 "cells": [
  {
   "cell_type": "markdown",
   "metadata": {},
   "source": [
    "## predict gene upregulation/downregulation\n",
    "- Using Expectation Reflection to infer the gene network and predict gene upregulation/downregulation at the next time point\n",
    "- initial measurements: $t[0-4]$\n",
    "- final measurements: $t[1-5]$\n",
    "- midpoint measurements: $\\dfrac{t[0-4] + t[1-5])}{2}$"
   ]
  },
  {
   "cell_type": "code",
   "execution_count": 1,
   "metadata": {},
   "outputs": [],
   "source": [
    "from functions import *\n",
    "from sklearn.model_selection import train_test_split\n",
    "from sklearn.model_selection import KFold\n",
    "from sklearn.metrics import accuracy_score\n",
    "from sklearn.utils import shuffle\n",
    "import matplotlib.pyplot as plt\n",
    "from matplotlib.backends.backend_pdf import PdfPages\n",
    "%matplotlib inline"
   ]
  },
  {
   "cell_type": "code",
   "execution_count": 2,
   "metadata": {
    "scrolled": false
   },
   "outputs": [],
   "source": [
    "def ER_inference(X, y, kf=5, regu=0.005):\n",
    "    kfold = KFold(n_splits=kf, shuffle=False, random_state=1)\n",
    "    accuracy_v = []\n",
    "    \n",
    "#     plt.rcParams.update({'font.size':20})\n",
    "#     fig, ax = plt.subplots(99//3, 3, figsize=(15, 4*(99//3)))\n",
    "#     plt.subplots_adjust(left=0.1, wspace=0.4, hspace=0.4)\n",
    "    for (tr_ind, te_ind) in (kfold.split(y)):\n",
    "        X_tr, y_tr = X[tr_ind], y[tr_ind]\n",
    "        X_te, y_te = X[te_ind], y[te_ind]\n",
    "        \n",
    "#         W_full = np.zeros((X_tr.shape[1], y_tr.shape[1]))\n",
    "#         h0_full = np.zeros(y_tr.shape[1])\n",
    "        accuracy = np.zeros(y_tr.shape[1])\n",
    "        \n",
    "        for n in range(y_tr.shape[1]):\n",
    "            h0, w = fit(X_tr, y_tr[:,n], niter_max=100, regu=0.005)\n",
    "            h_pred = h0 + X_te.dot(w)\n",
    "            y_pred = np.sign(h_pred)\n",
    "            accuracy[n] += accuracy_score(y_te[:,n], y_pred, normalize=False)\n",
    "#             ax[n//3, n%3].scatter(h_pred, y_te[:,n])\n",
    "#             ax[n//3, n%3].set_xlabel('h_pred')\n",
    "#             ax[n//3, n%3].set_ylabel('y_te')\n",
    "#             W_full[:,n] = w\n",
    "#             h0_full[n] = h0\n",
    "#         print(y_te.size)\n",
    "        accuracy = accuracy/y_te.shape[0]\n",
    "        accuracy_v.append(accuracy)\n",
    "#     plt.show()\n",
    "#     pdf.savefig(fig)\n",
    "    return np.vstack(accuracy_v)"
   ]
  },
  {
   "cell_type": "code",
   "execution_count": null,
   "metadata": {},
   "outputs": [],
   "source": [
    "data_complete = np.loadtxt('../data_complete.txt')\n",
    "data_init, data_fin, data_midpt, data_deriv = make_data(data_complete, n_bin=6)\n",
    "\n",
    "names = [\"initial measurements\", \"final measurements\", \"midpoint measurements\"]\n",
    "data_list = [data_init, data_fin, data_midpt]\n",
    "markers = [\"o\", \"x\", \"+\"]\n",
    "\n",
    "fig = plt.figure(figsize=(14,10))\n",
    "plt.rcParams.update({'font.size':16})\n",
    "for i, data in enumerate(data_list):\n",
    "    X, y = shuffle(data, data_deriv)\n",
    "    accu = ER_inference(X, y, kf=5, regu=0.005)\n",
    "    df=pd.DataFrame(accu)\n",
    "    plt.barh(range(y.shape[1]), accu.mean(axis=0), height=0.8, alpha=0.5)\n",
    "    plt.xlabel('gene')\n",
    "    plt.ylabel('accuracy')\n",
    "    plt.xlim(0.6, 1)\n",
    "plt.grid()\n",
    "plt.show()\n",
    "#     print(df.mean().sort_values(ascending=False))\n",
    "#     print(names[i],\": \", mean, std)\n",
    "    "
   ]
  },
  {
   "cell_type": "code",
   "execution_count": null,
   "metadata": {},
   "outputs": [],
   "source": []
  }
 ],
 "metadata": {
  "kernelspec": {
   "display_name": "Python 3",
   "language": "python",
   "name": "python3"
  },
  "language_info": {
   "codemirror_mode": {
    "name": "ipython",
    "version": 3
   },
   "file_extension": ".py",
   "mimetype": "text/x-python",
   "name": "python",
   "nbconvert_exporter": "python",
   "pygments_lexer": "ipython3",
   "version": "3.6.5"
  }
 },
 "nbformat": 4,
 "nbformat_minor": 2
}
