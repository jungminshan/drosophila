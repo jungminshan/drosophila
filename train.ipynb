{
 "cells": [
  {
   "cell_type": "code",
   "execution_count": 1,
   "metadata": {},
   "outputs": [],
   "source": [
    "from f_train import *"
   ]
  },
  {
   "cell_type": "markdown",
   "metadata": {},
   "source": [
    "### load data"
   ]
  },
  {
   "cell_type": "code",
   "execution_count": 2,
   "metadata": {},
   "outputs": [
    {
     "name": "stdout",
     "output_type": "stream",
     "text": [
      "# of cells:  6078\n"
     ]
    }
   ],
   "source": [
    "raw_data = np.loadtxt('../dmel_data.txt').T  # transpose the data so that the shape is 6078 cells x (3+6*99) columns\n",
    "gene_exp = np.copy(raw_data[:,3:])  # excluding (x,y,z) coordinates)\n",
    "n_cell = gene_exp.shape[0]  # number of cells\n",
    "print(\"# of cells: \", n_cell)\n",
    "train_cell_ind = np.random.choice(range(n_cell), size = int(n_cell/2), replace=False)\n",
    "with open('./pickles/train_cell_ind.pkl', 'wb') as f:\n",
    "    pickle.dump(train_cell_ind, f)\n",
    "test_cell_ind = [ i for i in range(n_cell) if i not in set(list(train_cell_ind))]\n",
    "\n",
    "tr_data = np.vstack([gene_exp[train_cell_ind, i::6] for i in range(6)]) #(3039 cells * 6 timepoints) x 99 genes\n",
    "te_data = np.vstack([gene_exp[test_cell_ind, i::6] for i in range(6)])  #(3039 cells * 6 timepoints) x 99 genes\n",
    "\n",
    "complete_all = ([int(x) - 1 for x in open('../indices_complete.txt','r').readline().split()])\n",
    "comp_ind = list(map(int, list((np.array(complete_all)[::6]-3)/6)))"
   ]
  },
  {
   "cell_type": "code",
   "execution_count": 3,
   "metadata": {},
   "outputs": [
    {
     "data": {
      "text/plain": [
       "0.37047867065965123"
      ]
     },
     "execution_count": 3,
     "metadata": {},
     "output_type": "execute_result"
    }
   ],
   "source": [
    "len(np.where(gene_exp==0)[0])/len(gene_exp.flatten())"
   ]
  },
  {
   "cell_type": "markdown",
   "metadata": {},
   "source": [
    "### Interpolate missing gene expression levels"
   ]
  },
  {
   "cell_type": "code",
   "execution_count": 4,
   "metadata": {},
   "outputs": [
    {
     "name": "stdout",
     "output_type": "stream",
     "text": [
      "The maximum number of train epochs is reached\n",
      "The maximum number of train epochs is reached\n",
      "The maximum number of train epochs is reached\n",
      "The maximum number of train epochs is reached\n",
      "The maximum number of train epochs is reached\n",
      "The maximum number of train epochs is reached\n",
      "The maximum number of train epochs is reached\n",
      "The maximum number of train epochs is reached\n",
      "The maximum number of train epochs is reached\n",
      "The maximum number of train epochs is reached\n",
      "The maximum number of train epochs is reached\n",
      "The maximum number of train epochs is reached\n",
      "The maximum number of train epochs is reached\n",
      "The maximum number of train epochs is reached\n",
      "The maximum number of train epochs is reached\n",
      "The maximum number of train epochs is reached\n",
      "The maximum number of train epochs is reached\n",
      "The maximum number of train epochs is reached\n",
      "The maximum number of train epochs is reached\n",
      "The maximum number of train epochs is reached\n",
      "The maximum number of train epochs is reached\n",
      "The maximum number of train epochs is reached\n",
      "The maximum number of train epochs is reached\n",
      "The maximum number of train epochs is reached\n",
      "The maximum number of train epochs is reached\n",
      "The maximum number of train epochs is reached\n",
      "The maximum number of train epochs is reached\n",
      "The maximum number of train epochs is reached\n",
      "The maximum number of train epochs is reached\n",
      "The maximum number of train epochs is reached\n",
      "The maximum number of train epochs is reached\n",
      "The maximum number of train epochs is reached\n",
      "The maximum number of train epochs is reached\n",
      "The maximum number of train epochs is reached\n",
      "The maximum number of train epochs is reached\n",
      "The maximum number of train epochs is reached\n",
      "The maximum number of train epochs is reached\n",
      "The maximum number of train epochs is reached\n",
      "The maximum number of train epochs is reached\n",
      "The maximum number of train epochs is reached\n",
      "The maximum number of train epochs is reached\n",
      "The maximum number of train epochs is reached\n",
      "The maximum number of train epochs is reached\n",
      "The maximum number of train epochs is reached\n",
      "The maximum number of train epochs is reached\n",
      "The maximum number of train epochs is reached\n",
      "The maximum number of train epochs is reached\n",
      "The maximum number of train epochs is reached\n",
      "The maximum number of train epochs is reached\n",
      "The maximum number of train epochs is reached\n",
      "The maximum number of train epochs is reached\n",
      "The maximum number of train epochs is reached\n",
      "The maximum number of train epochs is reached\n",
      "The maximum number of train epochs is reached\n",
      "The maximum number of train epochs is reached\n",
      "The maximum number of train epochs is reached\n",
      "The maximum number of train epochs is reached\n",
      "The maximum number of train epochs is reached\n",
      "The maximum number of train epochs is reached\n",
      "The maximum number of train epochs is reached\n",
      "The maximum number of train epochs is reached\n",
      "The maximum number of train epochs is reached\n",
      "The maximum number of train epochs is reached\n",
      "The maximum number of train epochs is reached\n",
      "The maximum number of train epochs is reached\n",
      "The maximum number of train epochs is reached\n",
      "The maximum number of train epochs is reached\n",
      "The maximum number of train epochs is reached\n",
      "The maximum number of train epochs is reached\n",
      "The maximum number of train epochs is reached\n",
      "The maximum number of train epochs is reached\n",
      "The maximum number of train epochs is reached\n",
      "The maximum number of train epochs is reached\n",
      "The maximum number of train epochs is reached\n",
      "The maximum number of train epochs is reached\n",
      "The maximum number of train epochs is reached\n",
      "15 0.6919956620119609\n",
      "The maximum number of train epochs is reached\n",
      "15 0.6965111640638797\n",
      "The maximum number of train epochs is reached\n",
      "15 0.722288068684759\n",
      "The maximum number of train epochs is reached\n"
     ]
    },
    {
     "data": {
      "text/plain": [
       "([0.8698366604412469,\n",
       "  0.9449258053535258,\n",
       "  0.9326530250642658,\n",
       "  0.9060154838639657,\n",
       "  0.8625631140954372,\n",
       "  0.8323164742462787,\n",
       "  0.8612762303360045,\n",
       "  0.8091866032179349,\n",
       "  0.8902792814655774,\n",
       "  0.9191746749801301,\n",
       "  0.8633263246125322,\n",
       "  0.8584095233407316,\n",
       "  0.9045717024601229,\n",
       "  0.8543988709010054,\n",
       "  0.9072132682975698,\n",
       "  0.8939842895415586,\n",
       "  0.9199760321682026,\n",
       "  0.8717807398494926,\n",
       "  0.9266212878752189,\n",
       "  0.8575300816024238,\n",
       "  0.9057351781972467,\n",
       "  0.8493535862624882,\n",
       "  0.8563913410079432,\n",
       "  0.8231157961749649,\n",
       "  0.9690183910441965,\n",
       "  0.9514507892414042,\n",
       "  0.8496542140466371,\n",
       "  0.782240293958112,\n",
       "  0.9425178912640649,\n",
       "  0.9668489530388439,\n",
       "  0.8857285036126431,\n",
       "  0.9622149346383715,\n",
       "  0.89071138839576,\n",
       "  0.8907064186579245,\n",
       "  0.9698859463976827,\n",
       "  0.9297241022464106,\n",
       "  0.892856046703339,\n",
       "  0.8663723170666191,\n",
       "  0.8799390930657068,\n",
       "  0.828453333977247,\n",
       "  0.847122584232404,\n",
       "  0.793498452635019,\n",
       "  0.9289410457980647,\n",
       "  0.9041594379352198,\n",
       "  0.8761193117920762,\n",
       "  0.9051896699682757,\n",
       "  0.8668717801159918,\n",
       "  0.8666061349916624,\n",
       "  0.8576379876108536,\n",
       "  0.8897280906237118,\n",
       "  0.9791234114665821,\n",
       "  0.8810342743360471,\n",
       "  0.8901079145537893,\n",
       "  0.9234770191798004,\n",
       "  0.8035668776407735,\n",
       "  0.9252807945748087,\n",
       "  0.9510220938635263,\n",
       "  0.9478086066672001,\n",
       "  0.9632567411520494,\n",
       "  0.9231695023660222,\n",
       "  0.7891796150255859,\n",
       "  0.8490599953852469,\n",
       "  0.8711170642530002,\n",
       "  0.8461821817660007,\n",
       "  0.8308496986798755,\n",
       "  0.9130029855285791,\n",
       "  0.8596511696480778,\n",
       "  0.8914503386834002,\n",
       "  0.8186653201421045,\n",
       "  0.9476902164856711,\n",
       "  0.9873826345694885,\n",
       "  0.7643345010149214],\n",
       " LinregressResult(slope=0.682430793627654, intercept=0.09080044686766903, rvalue=0.7643345010149214, pvalue=0.0, stderr=0.0060312421218945665))"
      ]
     },
     "execution_count": 4,
     "metadata": {},
     "output_type": "execute_result"
    }
   ],
   "source": [
    "corr = nn_complete(tr_data, te_data, comp_ind)\n",
    "corr[:5]"
   ]
  },
  {
   "cell_type": "markdown",
   "metadata": {},
   "source": [
    "### compile completed training and testing data into a single set & save as .txt"
   ]
  },
  {
   "cell_type": "code",
   "execution_count": 6,
   "metadata": {},
   "outputs": [
    {
     "name": "stdout",
     "output_type": "stream",
     "text": [
      "time 0: (6078, 99)\n",
      "complete:  (36468, 99)\n"
     ]
    }
   ],
   "source": [
    "tr_bin = np.vsplit(tr_data, 6)\n",
    "te_bin = np.vsplit(te_data, 6)\n",
    "data_complete = [np.vstack((tr_bin[i], te_bin[i])) for i in range(6)]\n",
    "print(\"time 0:\", data_complete[0].shape)\n",
    "data_complete = np.vstack(data_complete)\n",
    "data_complete[data_complete < 0] = 0\n",
    "print(\"complete: \", data_complete.shape)\n",
    "np.savetxt('../data_complete.txt', data_complete)"
   ]
  },
  {
   "cell_type": "code",
   "execution_count": null,
   "metadata": {},
   "outputs": [],
   "source": []
  }
 ],
 "metadata": {
  "kernelspec": {
   "display_name": "Python 3",
   "language": "python",
   "name": "python3"
  },
  "language_info": {
   "codemirror_mode": {
    "name": "ipython",
    "version": 3
   },
   "file_extension": ".py",
   "mimetype": "text/x-python",
   "name": "python",
   "nbconvert_exporter": "python",
   "pygments_lexer": "ipython3",
   "version": "3.6.3"
  },
  "toc": {
   "base_numbering": 1,
   "nav_menu": {},
   "number_sections": true,
   "sideBar": true,
   "skip_h1_title": false,
   "title_cell": "Table of Contents",
   "title_sidebar": "Contents",
   "toc_cell": false,
   "toc_position": {},
   "toc_section_display": true,
   "toc_window_display": false
  }
 },
 "nbformat": 4,
 "nbformat_minor": 2
}
