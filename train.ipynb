{
 "cells": [
  {
   "cell_type": "code",
   "execution_count": 2,
   "metadata": {},
   "outputs": [],
   "source": [
    "from train import *"
   ]
  },
  {
   "cell_type": "markdown",
   "metadata": {},
   "source": [
    "### load data"
   ]
  },
  {
   "cell_type": "code",
   "execution_count": 5,
   "metadata": {},
   "outputs": [
    {
     "name": "stdout",
     "output_type": "stream",
     "text": [
      "# of cells:  6078\n"
     ]
    }
   ],
   "source": [
    "raw_data = np.loadtxt('../dmel_data.txt').T  # transpose the data so that the shape is 6078 cells x (3+6*99) columns\n",
    "gene_exp = np.copy(raw_data[:,3:])  # excluding (x,y,z) coordinates)\n",
    "n_cell = gene_exp.shape[0]  # number of cells\n",
    "print(\"# of cells: \", n_cell)\n",
    "train_cell_ind = np.random.choice(range(n_cell), size = int(n_cell/2), replace=False)\n",
    "test_cell_ind = [ i for i in range(n_cell) if i not in set(list(train_cell_ind))]\n",
    "\n",
    "tr_data = np.vstack([gene_exp[train_cell_ind, i::6] for i in range(6)]) #(3039 cells * 6 timepoints) x 99 genes\n",
    "te_data = np.vstack([gene_exp[test_cell_ind, i::6] for i in range(6)])  #(3039 cells * 6 timepoints) x 99 genes\n",
    "\n",
    "complete_all = ([int(x) - 1 for x in open('../indices_complete.txt','r').readline().split()])\n",
    "comp_ind = list(map(int, list((np.array(complete_all)[::6]-3)/6)))"
   ]
  },
  {
   "cell_type": "markdown",
   "metadata": {},
   "source": [
    "### Interpolate missing gene expression levels"
   ]
  },
  {
   "cell_type": "code",
   "execution_count": 3,
   "metadata": {},
   "outputs": [
    {
     "name": "stdout",
     "output_type": "stream",
     "text": [
      "The maximum number of train epochs is reached\n",
      "The maximum number of train epochs is reached\n",
      "The maximum number of train epochs is reached\n",
      "The maximum number of train epochs is reached\n",
      "The maximum number of train epochs is reached\n",
      "The maximum number of train epochs is reached\n",
      "The maximum number of train epochs is reached\n",
      "The maximum number of train epochs is reached\n",
      "The maximum number of train epochs is reached\n",
      "The maximum number of train epochs is reached\n",
      "The maximum number of train epochs is reached\n",
      "The maximum number of train epochs is reached\n",
      "The maximum number of train epochs is reached\n",
      "The maximum number of train epochs is reached\n",
      "The maximum number of train epochs is reached\n",
      "The maximum number of train epochs is reached\n",
      "The maximum number of train epochs is reached\n",
      "The maximum number of train epochs is reached\n",
      "The maximum number of train epochs is reached\n",
      "The maximum number of train epochs is reached\n",
      "The maximum number of train epochs is reached\n",
      "The maximum number of train epochs is reached\n",
      "The maximum number of train epochs is reached\n",
      "The maximum number of train epochs is reached\n",
      "The maximum number of train epochs is reached\n",
      "The maximum number of train epochs is reached\n",
      "The maximum number of train epochs is reached\n",
      "The maximum number of train epochs is reached\n",
      "The maximum number of train epochs is reached\n",
      "The maximum number of train epochs is reached\n",
      "The maximum number of train epochs is reached\n",
      "The maximum number of train epochs is reached\n",
      "The maximum number of train epochs is reached\n",
      "The maximum number of train epochs is reached\n",
      "The maximum number of train epochs is reached\n",
      "The maximum number of train epochs is reached\n",
      "The maximum number of train epochs is reached\n",
      "The maximum number of train epochs is reached\n",
      "The maximum number of train epochs is reached\n",
      "The maximum number of train epochs is reached\n",
      "The maximum number of train epochs is reached\n",
      "The maximum number of train epochs is reached\n",
      "The maximum number of train epochs is reached\n",
      "The maximum number of train epochs is reached\n",
      "The maximum number of train epochs is reached\n",
      "The maximum number of train epochs is reached\n",
      "The maximum number of train epochs is reached\n",
      "The maximum number of train epochs is reached\n",
      "The maximum number of train epochs is reached\n",
      "The maximum number of train epochs is reached\n",
      "The maximum number of train epochs is reached\n",
      "The maximum number of train epochs is reached\n",
      "The maximum number of train epochs is reached\n",
      "The maximum number of train epochs is reached\n",
      "The maximum number of train epochs is reached\n",
      "The maximum number of train epochs is reached\n",
      "The maximum number of train epochs is reached\n",
      "The maximum number of train epochs is reached\n",
      "The maximum number of train epochs is reached\n",
      "The maximum number of train epochs is reached\n",
      "The maximum number of train epochs is reached\n",
      "The maximum number of train epochs is reached\n",
      "The maximum number of train epochs is reached\n",
      "The maximum number of train epochs is reached\n",
      "The maximum number of train epochs is reached\n",
      "The maximum number of train epochs is reached\n",
      "The maximum number of train epochs is reached\n",
      "The maximum number of train epochs is reached\n",
      "The maximum number of train epochs is reached\n",
      "The maximum number of train epochs is reached\n",
      "The maximum number of train epochs is reached\n",
      "The maximum number of train epochs is reached\n",
      "The maximum number of train epochs is reached\n",
      "The maximum number of train epochs is reached\n",
      "The maximum number of train epochs is reached\n",
      "The maximum number of train epochs is reached\n",
      "15 0.6821166184655197\n",
      "The maximum number of train epochs is reached\n",
      "15 0.7326153532281993\n",
      "The maximum number of train epochs is reached\n",
      "15 0.7311154450511114\n",
      "The maximum number of train epochs is reached\n",
      "15 0.7115508026131773\n",
      "The maximum number of train epochs is reached\n",
      "15 0.7405003661160687\n",
      "The maximum number of train epochs is reached\n",
      "15 0.7415018166544459\n",
      "The maximum number of train epochs is reached\n"
     ]
    },
    {
     "data": {
      "text/plain": [
       "[0.8836689617726496,\n",
       " 0.9450380333668651,\n",
       " 0.9305941632638457,\n",
       " 0.9025979382474555,\n",
       " 0.8553270319700705]"
      ]
     },
     "execution_count": 3,
     "metadata": {},
     "output_type": "execute_result"
    }
   ],
   "source": [
    "corr = nn_complete(tr_data, te_data, comp_ind)\n",
    "corr[:5]"
   ]
  },
  {
   "cell_type": "markdown",
   "metadata": {},
   "source": [
    "### compile completed training and testing data into a single set & save as .txt"
   ]
  },
  {
   "cell_type": "code",
   "execution_count": 6,
   "metadata": {},
   "outputs": [
    {
     "name": "stdout",
     "output_type": "stream",
     "text": [
      "time 0: (6078, 99)\n",
      "complete:  (36468, 99)\n"
     ]
    }
   ],
   "source": [
    "tr_bin = np.vsplit(tr_data, 6)\n",
    "te_bin = np.vsplit(te_data, 6)\n",
    "data_complete = [np.vstack((tr_bin[i], te_bin[i])) for i in range(6)]\n",
    "print(\"time 0:\", data_complete[0].shape)\n",
    "data_complete = np.vstack(data_complete)\n",
    "print(\"complete: \", data_complete.shape)\n",
    "np.savetxt('../data_complete.txt', data_complete)"
   ]
  },
  {
   "cell_type": "code",
   "execution_count": null,
   "metadata": {},
   "outputs": [],
   "source": []
  }
 ],
 "metadata": {
  "kernelspec": {
   "display_name": "Python 3",
   "language": "python",
   "name": "python3"
  },
  "language_info": {
   "codemirror_mode": {
    "name": "ipython",
    "version": 3
   },
   "file_extension": ".py",
   "mimetype": "text/x-python",
   "name": "python",
   "nbconvert_exporter": "python",
   "pygments_lexer": "ipython3",
   "version": "3.6.5"
  }
 },
 "nbformat": 4,
 "nbformat_minor": 2
}
