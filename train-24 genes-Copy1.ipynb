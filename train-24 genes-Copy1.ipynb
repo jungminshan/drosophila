{
 "cells": [
  {
   "cell_type": "code",
   "execution_count": 1,
   "metadata": {},
   "outputs": [],
   "source": [
    "from f_train import *"
   ]
  },
  {
   "cell_type": "markdown",
   "metadata": {},
   "source": [
    "### load data"
   ]
  },
  {
   "cell_type": "code",
   "execution_count": 2,
   "metadata": {},
   "outputs": [
    {
     "name": "stdout",
     "output_type": "stream",
     "text": [
      "# of cells:  6078\n"
     ]
    }
   ],
   "source": [
    "raw_data = np.loadtxt('../dmel_data.txt').T  # transpose the data so that the shape is 6078 cells x (3+6*99) columns\n",
    "gene_exp = np.copy(raw_data[:,3:])  # excluding (x,y,z) coordinates)\n",
    "n_cell = gene_exp.shape[0]  # number of cells\n",
    "print(\"# of cells: \", n_cell)"
   ]
  },
  {
   "cell_type": "code",
   "execution_count": 3,
   "metadata": {},
   "outputs": [],
   "source": [
    "\n",
    "def imputation(tr, te):\n",
    "    complete_all = ([int(x) - 1 for x in open('../indices_complete.txt','r').readline().split()])\n",
    "    comp_ind = list(map(int, list((np.array(complete_all)[::6]-3)/6)))\n",
    "    gene_sel = np.sort(np.random.choice(comp_ind, 3, replace=False))\n",
    "    print(\"selected genes: \", gene_sel)\n",
    "    mt_list=[]\n",
    "    tp_list=[]\n",
    "    save_tr=[]\n",
    "    save_te=[]\n",
    "    for i in range(len(gene_sel)):\n",
    "        mt = np.random.randint(1, 6, 1)\n",
    "        mt_list.append(mt)\n",
    "        tp = np.random.choice(range(1,7), mt, replace=False)\n",
    "        tp_list.append(tp)\n",
    "        print(\"# of missing time points: \", mt, \" which time point is missing: \", tp)\n",
    "        for j in tp:\n",
    "            save_tr.append(np.copy(tr[(3039*(j-1)):(3039*j), gene_sel[i]]))\n",
    "            save_te.append(np.copy(te[(3039*(j-1)):(3039*j), gene_sel[i]]))\n",
    "            tr[(3039*(j-1)):(3039*j), gene_sel[i]] = 0\n",
    "            te[(3039*(j-1)):(3039*j), gene_sel[i]] = 0\n",
    "    comp_ind_ = [i for i in comp_ind if i not in gene_sel]\n",
    "    print(len(comp_ind), len(comp_ind_), comp_ind_)\n",
    "    corr, r2 = nn_complete(tr, te, comp_ind_)\n",
    "    imputed_tr = []\n",
    "    imputed_te = []\n",
    "    for i in range(len(gene_sel)):\n",
    "        for j in tp_list[i]:\n",
    "            imputed_tr.append(tr[(3039*(j-1)):(3039*j), gene_sel[i]])\n",
    "            imputed_te.append(te[(3039*(j-1)):(3039*j), gene_sel[i]])\n",
    "    tr_bin = np.vsplit(tr, 6)\n",
    "    te_bin = np.vsplit(te, 6)\n",
    "    data_complete = [np.vstack((tr_bin[i], te_bin[i])) for i in range(6)]\n",
    "    data_complete = np.vstack(data_complete)\n",
    "    data_complete[data_complete < 0] = 0\n",
    "    med = np.median(data_complete, axis=0)\n",
    "    \n",
    "    return gene_sel, med"
   ]
  },
  {
   "cell_type": "code",
   "execution_count": null,
   "metadata": {},
   "outputs": [
    {
     "name": "stdout",
     "output_type": "stream",
     "text": [
      "selected genes:  [29 42 60]\n",
      "# of missing time points:  [5]  which time point is missing:  [3 5 4 6 2]\n",
      "# of missing time points:  [4]  which time point is missing:  [6 3 4 1]\n",
      "# of missing time points:  [1]  which time point is missing:  [1]\n",
      "27 24 [20, 35, 47, 54, 56, 57, 59, 61, 62, 66, 67, 74, 77, 79, 82, 83, 84, 89, 91, 93, 94, 95, 97, 98]\n",
      "The maximum number of train epochs is reached\n",
      "The maximum number of train epochs is reached\n",
      "The maximum number of train epochs is reached\n",
      "The maximum number of train epochs is reached\n",
      "The maximum number of train epochs is reached\n",
      "The maximum number of train epochs is reached\n",
      "The maximum number of train epochs is reached\n",
      "The maximum number of train epochs is reached\n",
      "The maximum number of train epochs is reached\n",
      "The maximum number of train epochs is reached\n",
      "The maximum number of train epochs is reached\n",
      "The maximum number of train epochs is reached\n",
      "The maximum number of train epochs is reached\n",
      "The maximum number of train epochs is reached\n",
      "The maximum number of train epochs is reached\n",
      "The maximum number of train epochs is reached\n",
      "The maximum number of train epochs is reached\n",
      "The maximum number of train epochs is reached\n",
      "The maximum number of train epochs is reached\n",
      "The maximum number of train epochs is reached\n",
      "The maximum number of train epochs is reached\n",
      "The maximum number of train epochs is reached\n",
      "The maximum number of train epochs is reached\n",
      "The maximum number of train epochs is reached\n",
      "The maximum number of train epochs is reached\n",
      "The maximum number of train epochs is reached\n",
      "The maximum number of train epochs is reached\n",
      "The maximum number of train epochs is reached\n",
      "The maximum number of train epochs is reached\n",
      "The maximum number of train epochs is reached\n",
      "The maximum number of train epochs is reached\n",
      "The maximum number of train epochs is reached\n",
      "The maximum number of train epochs is reached\n",
      "The maximum number of train epochs is reached\n",
      "The maximum number of train epochs is reached\n",
      "The maximum number of train epochs is reached\n",
      "The maximum number of train epochs is reached\n"
     ]
    }
   ],
   "source": [
    "res = []\n",
    "for i in range(10):\n",
    "    train_cell_ind = np.random.choice(range(n_cell), size = int(n_cell/2), replace=False)\n",
    "    test_cell_ind = [ i for i in range(n_cell) if i not in set(list(train_cell_ind))]\n",
    "    tr_data = np.vstack([gene_exp[train_cell_ind, i::6] for i in range(6)]) #(3039 cells * 6 timepoints) x 99 genes\n",
    "    te_data = np.vstack([gene_exp[test_cell_ind, i::6] for i in range(6)])  #(3039 cells * 6 timepoints) x 99 genes\n",
    "    gene, med = imputation(tr_data, te_data)\n",
    "    res.append([gene,med])"
   ]
  },
  {
   "cell_type": "code",
   "execution_count": null,
   "metadata": {},
   "outputs": [],
   "source": [
    "len(res)"
   ]
  },
  {
   "cell_type": "code",
   "execution_count": null,
   "metadata": {},
   "outputs": [],
   "source": [
    "n = 48\n",
    "matrix = np.zeros((n,99))*-1\n",
    "complete_all = ([int(x) - 1 for x in open('../indices_complete.txt','r').readline().split()])\n",
    "comp_ind = list(map(int, list((np.array(complete_all)[::6]-3)/6)))\n",
    "for i in range(n):\n",
    "    matrix[i,res[i][0]] = res[i][1][res[i][0]]\n",
    "ans_mean = np.apply_along_axis(lambda v: np.mean(v[v >= 0]), 0, matrix)\n",
    "ans_std = np.apply_along_axis(lambda v: np.std(v[v >= 0]), 0, matrix)\n",
    "ans_mean[np.isnan(ans_mean)] = 0\n",
    "ans_std[np.isnan(ans_std)] = 0\n",
    "\n",
    "data = np.vstack([gene_exp[:, i::6] for i in range(6)])\n",
    "plt.figure(figsize=(12,6))\n",
    "plt.plot(comp_ind,np.median(data, axis=0)[comp_ind],'o-', ms=10, linewidth=2)\n",
    "plt.errorbar(comp_ind, ans_mean[comp_ind], yerr=ans_std[comp_ind], fmt='v-', ms=12, linewidth=2)"
   ]
  },
  {
   "cell_type": "code",
   "execution_count": null,
   "metadata": {},
   "outputs": [],
   "source": [
    "# import pickle\n",
    "\n",
    "# with open('./pickles/imputed_10.pkl', 'wb') as f:\n",
    "#     pickle.dump(res, f)"
   ]
  },
  {
   "cell_type": "code",
   "execution_count": null,
   "metadata": {},
   "outputs": [],
   "source": [
    "# complete_all = ([int(x) - 1 for x in open('../indices_complete.txt','r').readline().split()])\n",
    "# comp_ind = list(map(int, list((np.array(complete_all)[::6]-3)/6)))\n",
    "\n",
    "# import matplotlib\n",
    "# matplotlib.rcParams['legend.frameon'] = False\n",
    "# matplotlib.rcParams.update({'font.size':24})\n",
    "\n",
    "# with open('./pickles/imputed_10.pkl', 'rb') as f:\n",
    "#     res = pickle.load(f)\n",
    "    \n",
    "# mean_of_med = np.mean([res[i]['med'] for i in range(10)], axis=0)\n",
    "# std_of_med = np.std([res[i]['med'] for i in range(10)], axis=0)\n",
    "# data = np.median(np.vstack([gene_exp[:, i::6] for i in range(6)])[:, comp_ind], axis=0)\n",
    "\n",
    "# plt.figure(figsize=(12,6))\n",
    "# plt.plot(comp_ind, data, 'o-', ms=10, linewidth=2, label='observed')\n",
    "# plt.errorbar(comp_ind, mean_of_med[comp_ind], yerr=std_of_med[comp_ind], fmt='v-', ms=12, linewidth=2, label='imputed')\n",
    "# plt.xlabel('Gene')\n",
    "# plt.ylabel('Median expression')\n",
    "# plt.xlim(-1,99)\n",
    "# plt.xticks([0,98],['0','98'])\n",
    "# plt.ylim(0,0.4)\n",
    "# plt.yticks([0,0.1,0.2,0.3,0.4],['0','','','','0.4'])\n",
    "# plt.legend()\n",
    "# # plt.savefig('./paper/imputation.pdf', boxx_inches='tight')\n",
    "# plt.show()"
   ]
  },
  {
   "cell_type": "code",
   "execution_count": null,
   "metadata": {},
   "outputs": [],
   "source": [
    "# import scipy\n",
    "\n",
    "# plt.figure(figsize=(8,8))\n",
    "\n",
    "# # reg = scipy.stats.linregress(saved, imputed)\n",
    "# # x = np.linspace(0,1.5,3)\n",
    "# # y = x*reg[0]\n",
    "# saved = np.hstack([res[i]['saved'] for i in range(10)])\n",
    "# imputed = np.hstack([res[i]['imputed'] for i in range(10)])\n",
    "# imputed[imputed < 0] = 0\n",
    "# plt.scatter(saved, imputed, alpha=0.05, s=3)\n",
    "# plt.plot([0,1.6],[0,1.6], 'r--', linewidth=2, label='slope = 1')\n",
    "# # plt.plot(x,y,'--', linewidth=2, label='regressed')\n",
    "# plt.xlabel('observed')\n",
    "# plt.ylabel('imputed')\n",
    "# plt.xlim(0,1.6)\n",
    "# plt.ylim(0,1.6)\n",
    "# plt.xticks([0,0.5,1,1.5],['0','','','1.5'])\n",
    "# plt.yticks([0,0.5,1,1.5],['0','','','1.5'])\n",
    "# plt.legend()\n",
    "# # plt.savefig('./paper/obvsimp.png', bbox_inches='tight')\n",
    "# plt.show()"
   ]
  },
  {
   "cell_type": "code",
   "execution_count": null,
   "metadata": {},
   "outputs": [],
   "source": [
    "# corr = np.mean([res[i]['corr'] for i in range(10)])\n",
    "\n",
    "# print(corr)"
   ]
  }
 ],
 "metadata": {
  "kernelspec": {
   "display_name": "Python 3",
   "language": "python",
   "name": "python3"
  },
  "language_info": {
   "codemirror_mode": {
    "name": "ipython",
    "version": 3
   },
   "file_extension": ".py",
   "mimetype": "text/x-python",
   "name": "python",
   "nbconvert_exporter": "python",
   "pygments_lexer": "ipython3",
   "version": "3.6.3"
  },
  "toc": {
   "base_numbering": 1,
   "nav_menu": {},
   "number_sections": true,
   "sideBar": true,
   "skip_h1_title": false,
   "title_cell": "Table of Contents",
   "title_sidebar": "Contents",
   "toc_cell": false,
   "toc_position": {},
   "toc_section_display": true,
   "toc_window_display": false
  }
 },
 "nbformat": 4,
 "nbformat_minor": 2
}
